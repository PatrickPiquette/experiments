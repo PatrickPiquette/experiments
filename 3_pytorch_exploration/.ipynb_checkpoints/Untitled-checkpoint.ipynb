{
 "cells": [
  {
   "cell_type": "code",
   "execution_count": 9,
   "metadata": {},
   "outputs": [
    {
     "name": "stdout",
     "output_type": "stream",
     "text": [
      "(tensor([[[-0.1074, -0.3101, -0.1648, -0.0537, -0.0964,  0.0302, -0.2140,\n",
      "           0.2162, -0.1102, -0.0694, -0.1127, -0.0757,  0.2797, -0.0110,\n",
      "          -0.0740, -0.1185,  0.0956, -0.1242,  0.2379, -0.0392]],\n",
      "\n",
      "        [[ 0.0348, -0.1406,  0.1399,  0.0035, -0.0393,  0.0178,  0.0402,\n",
      "           0.1933, -0.0103,  0.0301, -0.1542,  0.0679, -0.0185, -0.1472,\n",
      "          -0.0170,  0.0327, -0.0466, -0.2193,  0.1217,  0.0604]]],\n",
      "       grad_fn=<ViewBackward>), tensor([[[-0.1480, -0.5954, -0.3846, -0.0830, -0.2125,  0.0753, -0.3800,\n",
      "           0.4159, -0.1969, -0.1614, -0.1785, -0.1294,  0.5161, -0.0333,\n",
      "          -0.1319, -0.2927,  0.2619, -0.2022,  0.5911, -0.1039]],\n",
      "\n",
      "        [[ 0.0813, -0.2613,  0.2595,  0.0079, -0.0969,  0.0378,  0.1043,\n",
      "           0.3624, -0.0211,  0.0565, -0.3415,  0.1191, -0.0399, -0.2805,\n",
      "          -0.0300,  0.0663, -0.0793, -0.3655,  0.2912,  0.1137]]],\n",
      "       grad_fn=<ViewBackward>))\n"
     ]
    }
   ],
   "source": [
    "import torch\n",
    "import torch.autograd as autograd\n",
    "import torch.nn as nn\n",
    "import torch.nn.functional as F\n",
    "import torch.optim as optim\n",
    "from torch.autograd import Variable\n",
    "\n",
    "rnn = nn.LSTM(input_size=10, hidden_size=20, num_layers = 2)\n",
    "\n",
    "input = Variable(torch.randn(50, 1, 10))#seq_len x batch x input_size\n",
    "\n",
    "output, hn = rnn(input)\n",
    "\n",
    "print (hn)\n",
    "\n",
    "print (output)\n"
   ]
  },
  {
   "cell_type": "code",
   "execution_count": null,
   "metadata": {},
   "outputs": [],
   "source": []
  }
 ],
 "metadata": {
  "kernelspec": {
   "display_name": "Python 3",
   "language": "python",
   "name": "python3"
  },
  "language_info": {
   "codemirror_mode": {
    "name": "ipython",
    "version": 3
   },
   "file_extension": ".py",
   "mimetype": "text/x-python",
   "name": "python",
   "nbconvert_exporter": "python",
   "pygments_lexer": "ipython3",
   "version": "3.7.0"
  }
 },
 "nbformat": 4,
 "nbformat_minor": 2
}
