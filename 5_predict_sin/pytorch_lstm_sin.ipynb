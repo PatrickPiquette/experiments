{
 "cells": [
  {
   "cell_type": "markdown",
   "metadata": {},
   "source": [
    "https://gist.github.com/spro/ef26915065225df65c1187562eca7ec4"
   ]
  },
  {
   "cell_type": "code",
   "execution_count": 282,
   "metadata": {},
   "outputs": [
    {
     "name": "stdout",
     "output_type": "stream",
     "text": [
      "cuda\n"
     ]
    }
   ],
   "source": [
    "import torch\n",
    "import torch.nn as nn\n",
    "from torch.nn import functional as F\n",
    "from torch.autograd import Variable\n",
    "from torch import optim\n",
    "import numpy as np\n",
    "import math, random\n",
    "from tqdm import tqdm_notebook\n",
    "\n",
    "from bokeh.plotting import figure, show, output_notebook\n",
    "\n",
    "device = torch.device(\"cuda\" if torch.cuda.is_available() else \"cpu\")\n",
    "print(device)"
   ]
  },
  {
   "cell_type": "code",
   "execution_count": 283,
   "metadata": {},
   "outputs": [],
   "source": [
    "# Generating a noisy multi-sin wave \n",
    "class noisymultisin():\n",
    "    def __init__(self):\n",
    "        self.offset = 0\n",
    "        \n",
    "    def sine_2(self, X, signal_freq=60.):\n",
    "        return (np.sin(2 * np.pi * (X) / signal_freq) + np.sin(4 * np.pi * (X) / signal_freq)) / 2.0\n",
    "\n",
    "    def noisy(self, Y, noise_range=(-0.05, 0.05)):\n",
    "        noise = np.random.uniform(noise_range[0], noise_range[1], size=Y.shape)\n",
    "        return Y + noise\n",
    "\n",
    "    def sample(self, sample_size):\n",
    "        X = np.arange(sample_size)\n",
    "        X += self.offset\n",
    "        Y = self.noisy(self.sine_2(X + self.offset))\n",
    "        self.offset += sample_size\n",
    "        return X, Y"
   ]
  },
  {
   "cell_type": "code",
   "execution_count": 284,
   "metadata": {},
   "outputs": [],
   "source": [
    "# generating a simple sin wave\n",
    "class simplesin():\n",
    "    def __init__(self):\n",
    "        self.offset = 0\n",
    "        \n",
    "    def sin(self, X, signal_freq=60.):\n",
    "        return np.sin(2 * np.pi * (X) / signal_freq)\n",
    "\n",
    "    def sample(self, sample_size):\n",
    "        X = np.arange(sample_size)\n",
    "        X += self.offset\n",
    "        Y = self.sin(X)\n",
    "        self.offset += sample_size\n",
    "        return X, Y"
   ]
  },
  {
   "cell_type": "markdown",
   "metadata": {},
   "source": [
    "## The model with different mode: LSTM, LSTMCell and LSTMCustom"
   ]
  },
  {
   "cell_type": "code",
   "execution_count": 613,
   "metadata": {},
   "outputs": [],
   "source": [
    "class Hidden():\n",
    "    def __init__(self, *args):\n",
    "        self.args = args\n",
    "        self.h_0 = self.__default_state()\n",
    "        self.c_0 = self.__default_state()\n",
    "\n",
    "    def __default_state(self):\n",
    "        return(torch.zeros(self.args, device=device, requires_grad=False))\n",
    "   \n",
    "    def reset_state(self):\n",
    "        self.h_0 = self.__default_state() \n",
    "        self.c_0 = self.__default_state()\n",
    "            \n",
    "    def get_h_c(self):\n",
    "        return (self.h_0, self.c_0)\n",
    "    \n",
    "    def set_h_c(self, tup):\n",
    "        self.h_0 = tup[0]\n",
    "        self.c_0 = tup[1]\n",
    "        "
   ]
  },
  {
   "cell_type": "code",
   "execution_count": 641,
   "metadata": {},
   "outputs": [],
   "source": [
    "class PPLSTM(nn.Module):\n",
    "\n",
    "    def __init__(self, hidden_size, dropout=0.05, num_layers=2, mode=\"LSTM\"):\n",
    "        super(PPLSTM, self).__init__()\n",
    "        \n",
    "        self.hidden_size = hidden_size\n",
    "        self.dropout=dropout\n",
    "        self.num_layers=num_layers\n",
    "        self.batch_size = 1\n",
    "        self.lstm = nn.ModuleList()\n",
    "        self.hiddens = []\n",
    "        self.mode = mode\n",
    "        self.training = False\n",
    "\n",
    "        assert num_layers >= 1\n",
    "        \n",
    "        if self.mode is \"LSTM\":\n",
    "            self.lstm.append(nn.LSTM(input_size=1, \n",
    "                                     hidden_size=hidden_size, \n",
    "                                     num_layers=self.num_layers, \n",
    "                                     dropout=self.dropout))\n",
    "            self.hiddens.append(Hidden(self.num_layers, self.batch_size, self.hidden_size))\n",
    "            \n",
    "        elif self.mode is \"LSTMCell\":\n",
    "            self.lstm.append(nn.LSTMCell(input_size=1, hidden_size=hidden_size)) \n",
    "\n",
    "            for layer in range(self.num_layers-1):\n",
    "                self.lstm.append(nn.LSTMCell(input_size=hidden_size, hidden_size=hidden_size)) \n",
    "\n",
    "            for layer in range(self.num_layers):\n",
    "                self.hiddens.append(Hidden(self.batch_size, self.hidden_size))\n",
    "\n",
    "        else:\n",
    "            raise ValueError(f\"Unsuported mode {mode}\")\n",
    "            \n",
    "        self.out = nn.Linear(hidden_size, 1)\n",
    "\n",
    "    def reset_state(self):\n",
    "        for hidden in self.hiddens:\n",
    "            hidden.reset_state()\n",
    "    \n",
    "    def printParams(self, index=None):\n",
    "        if index is None:\n",
    "            print(\"\\nPrinting parameters\")\n",
    "            for parameter in self.parameters():\n",
    "                print(parameter)\n",
    "        else:\n",
    "            for i, value in enumerate(self.parameters()):\n",
    "                if i == index:\n",
    "                    print(f\"\\nPrinting parameters at index {i}\")\n",
    "                    print(value)\n",
    "                    break\n",
    "        \n",
    "    def evaluate(self, inputs):\n",
    "        nbr_inputs = inputs.size()[0]\n",
    "        if self.mode is \"LSTM\":\n",
    "            o = torch.zeros(nbr_inputs, 1, 1).to(device)\n",
    "            o, hidden = self.lstm[0](inputs, self.hiddens[0].get_h_c())\n",
    "            self.hiddens[0].set_h_c(hidden)\n",
    "            o = self.out(o)\n",
    "        else:\n",
    "            o = torch.zeros(nbr_inputs, 1).to(device)\n",
    "            for i, input in enumerate(inputs):\n",
    "                # lstm layer 0\n",
    "                hidden = self.lstm[0](input.unsqueeze(1), self.hiddens[0].get_h_c())\n",
    "                self.hiddens[0].set_h_c(hidden)\n",
    "                \n",
    "                # all subsequent lstm layers\n",
    "                for layer in range(1, self.num_layers):\n",
    "                    hidden = self.lstm[layer](self.hiddens[layer-1].h_0, self.hiddens[layer].get_h_c())\n",
    "                    self.hiddens[layer].set_h_c(hidden)\n",
    "\n",
    "                # linear taking the last layer h_0 as input\n",
    "                o[i] = self.out(self.hiddens[self.num_layers-1].h_0)\n",
    "\n",
    "            if self.training == True:\n",
    "                self.reset_state()\n",
    "        return(o)\n",
    "    \n",
    "    def forward(self, inputs, training=False):\n",
    "        self.training = training\n",
    "        \n",
    "        # Rearrange the inputs to the correct size based on the selected mode\n",
    "        if len(inputs.size()) == 1:\n",
    "            inputs.unsqueeze_(1)\n",
    "            if mode == \"LSTM\":\n",
    "                inputs.unsqueeze_(2)\n",
    "\n",
    "        # Define local variables based on the selected mode\n",
    "        if mode == \"LSTM\":\n",
    "            input = torch.zeros(1,1,1).to(device)\n",
    "            input[0,0,0] = inputs[0,0,0]\n",
    "            outputs = torch.zeros(inputs.size()[0], 1, 1).to(device)\n",
    "        else:\n",
    "            input = torch.zeros(1,1).to(device)\n",
    "            input[0,0] = inputs[0,0]\n",
    "            outputs = torch.zeros(inputs.size()[0], 1).to(device)\n",
    "                        \n",
    "        if self.training is True:\n",
    "            self.reset_state()\n",
    "            outputs = self.evaluate(inputs)\n",
    "        else: \n",
    "            # In predicting mode\n",
    "            # We feed the first elements of inputs for the first loop and then feed the model output into the input.\n",
    "            for i in range(inputs.size()[0]):\n",
    "                output = self.evaluate(input)\n",
    "                outputs[i] = output\n",
    "                input = output\n",
    "            self.reset_state()\n",
    "        return outputs"
   ]
  },
  {
   "cell_type": "code",
   "execution_count": 648,
   "metadata": {},
   "outputs": [
    {
     "data": {
      "text/plain": [
       "HBox(children=(IntProgress(value=0, max=200), HTML(value='')))"
      ]
     },
     "metadata": {},
     "output_type": "display_data"
    }
   ],
   "source": [
    "n_epochs=200\n",
    "hidden_size=20\n",
    "dropout=0.00\n",
    "num_layers=2\n",
    "learning_size=1400\n",
    "mode=\"LSTMCell\"\n",
    "\n",
    "model = PPLSTM(hidden_size=hidden_size, dropout=dropout, num_layers=num_layers, mode=mode)\n",
    "model.to(device)\n",
    "criterion = nn.MSELoss()\n",
    "optimizer = optim.Adam(model.parameters())\n",
    "\n",
    "losses = np.zeros(n_epochs) # For plotting\n",
    "\n",
    "# Setup inputs\n",
    "wave = simplesin()\n",
    "timesteps, _inputs = wave.sample(sample_size=learning_size)\n",
    "inputs = torch.from_numpy(_inputs[:-1]).float().to(device)\n",
    "targets = torch.from_numpy(_inputs[1:]).float().to(device)\n",
    "\n",
    "for epoch in tqdm_notebook(range(n_epochs)):\n",
    " \n",
    "    optimizer.zero_grad()\n",
    "\n",
    "    outputs = model(inputs, training=True)\n",
    "    outputs = torch.squeeze(outputs)\n",
    "        \n",
    "    loss = criterion(outputs.view(len(outputs)), targets)\n",
    "    loss.backward()\n",
    "    optimizer.step()\n",
    "    losses[epoch] += loss.item()"
   ]
  },
  {
   "cell_type": "code",
   "execution_count": 649,
   "metadata": {},
   "outputs": [
    {
     "data": {
      "text/html": [
       "\n",
       "    <div class=\"bk-root\">\n",
       "        <a href=\"https://bokeh.pydata.org\" target=\"_blank\" class=\"bk-logo bk-logo-small bk-logo-notebook\"></a>\n",
       "        <span id=\"d4c000af-171f-41c6-a8a9-29d0df6dc358\">Loading BokehJS ...</span>\n",
       "    </div>"
      ]
     },
     "metadata": {},
     "output_type": "execute_result"
    },
    {
     "data": {},
     "metadata": {},
     "output_type": "display_data"
    },
    {
     "data": {
      "text/html": [
       "\n",
       "\n",
       "\n",
       "\n",
       "\n",
       "\n",
       "  <div class=\"bk-root\" id=\"b48503b8-fa87-4ede-915b-f9c0a7851359\"></div>\n"
      ]
     },
     "metadata": {},
     "output_type": "execute_result"
    },
    {
     "data": {},
     "metadata": {
      "application/vnd.bokehjs_exec.v0+json": {
       "id": "db0465ab-bd31-419c-8c08-65123a9fb2c4"
      }
     },
     "output_type": "display_data"
    }
   ],
   "source": [
    "output_notebook()\n",
    "\n",
    "l = figure(plot_width=900, plot_height=400)\n",
    "l.line(x=range(n_epochs), y=losses, line_width=2, line_color=\"blue\")\n",
    "l.xaxis.axis_label = \"Epoch\"\n",
    "l.yaxis.axis_label = \"Loss\"\n",
    "l.yaxis.major_label_orientation = \"vertical\"\n",
    "show(l)"
   ]
  },
  {
   "cell_type": "code",
   "execution_count": 650,
   "metadata": {},
   "outputs": [
    {
     "data": {
      "text/html": [
       "\n",
       "    <div class=\"bk-root\">\n",
       "        <a href=\"https://bokeh.pydata.org\" target=\"_blank\" class=\"bk-logo bk-logo-small bk-logo-notebook\"></a>\n",
       "        <span id=\"5f810cb3-08e9-4a31-b128-128024724543\">Loading BokehJS ...</span>\n",
       "    </div>"
      ]
     },
     "metadata": {},
     "output_type": "execute_result"
    },
    {
     "data": {},
     "metadata": {},
     "output_type": "display_data"
    },
    {
     "data": {
      "text/html": [
       "\n",
       "\n",
       "\n",
       "\n",
       "\n",
       "\n",
       "  <div class=\"bk-root\" id=\"43d551df-7ad9-44b9-b540-a5d0c17379c4\"></div>\n"
      ]
     },
     "metadata": {},
     "output_type": "execute_result"
    },
    {
     "data": {},
     "metadata": {
      "application/vnd.bokehjs_exec.v0+json": {
       "id": "07ccc238-8ebd-43a0-a16d-4d591a3578ae"
      }
     },
     "output_type": "display_data"
    }
   ],
   "source": [
    "output_notebook()\n",
    "\n",
    "p = figure(plot_width=900, plot_height=400)\n",
    "p.line(x=timesteps, y=_inputs, line_width=2, line_color=\"blue\", legend=\"True\")\n",
    "p.line(x=timesteps[1:], y=outputs.tolist(), line_width=2, line_color=\"orange\", legend=\"Prediction\")\n",
    "show(p)"
   ]
  },
  {
   "cell_type": "markdown",
   "metadata": {},
   "source": [
    "\n",
    "Try to do some prediction by taking more points in the sin wave\n"
   ]
  },
  {
   "cell_type": "code",
   "execution_count": 651,
   "metadata": {},
   "outputs": [],
   "source": [
    "timesteps2, _inputs2 = wave.sample(sample_size=500)\n",
    "inputs2 = torch.from_numpy(_inputs2[:-1]).float().to(device)\n",
    "targets2 = torch.from_numpy(_inputs2[1:]).float()\n",
    "outputs2 = model(inputs2)\n",
    "outputs2 = torch.squeeze(outputs2)"
   ]
  },
  {
   "cell_type": "code",
   "execution_count": 652,
   "metadata": {},
   "outputs": [
    {
     "data": {
      "text/html": [
       "\n",
       "    <div class=\"bk-root\">\n",
       "        <a href=\"https://bokeh.pydata.org\" target=\"_blank\" class=\"bk-logo bk-logo-small bk-logo-notebook\"></a>\n",
       "        <span id=\"09804aec-12a1-4c9b-abad-048a40f5f13d\">Loading BokehJS ...</span>\n",
       "    </div>"
      ]
     },
     "metadata": {},
     "output_type": "execute_result"
    },
    {
     "data": {},
     "metadata": {},
     "output_type": "display_data"
    },
    {
     "data": {
      "text/html": [
       "\n",
       "\n",
       "\n",
       "\n",
       "\n",
       "\n",
       "  <div class=\"bk-root\" id=\"396b3607-4c0c-471f-9f74-b6ad7763691f\"></div>\n"
      ]
     },
     "metadata": {},
     "output_type": "execute_result"
    },
    {
     "data": {},
     "metadata": {
      "application/vnd.bokehjs_exec.v0+json": {
       "id": "b73e6c46-2fed-4368-94f6-799761cd57d8"
      }
     },
     "output_type": "display_data"
    }
   ],
   "source": [
    "output_notebook()\n",
    "\n",
    "p = figure(plot_width=900, plot_height=400, title=\"Wave generation by model\")\n",
    "\n",
    "# add a line renderer\n",
    "p.line(x=timesteps2, y=_inputs2, line_width=2, line_color=\"blue\")\n",
    "p.line(x=timesteps2[1:], y=outputs2.tolist(), line_width=2, line_color=\"orange\")\n",
    "show(p)"
   ]
  },
  {
   "cell_type": "code",
   "execution_count": null,
   "metadata": {},
   "outputs": [],
   "source": []
  }
 ],
 "metadata": {
  "kernelspec": {
   "display_name": "Python 3",
   "language": "python",
   "name": "python3"
  },
  "language_info": {
   "codemirror_mode": {
    "name": "ipython",
    "version": 3
   },
   "file_extension": ".py",
   "mimetype": "text/x-python",
   "name": "python",
   "nbconvert_exporter": "python",
   "pygments_lexer": "ipython3",
   "version": "3.7.0"
  }
 },
 "nbformat": 4,
 "nbformat_minor": 2
}
