{
 "cells": [
  {
   "cell_type": "markdown",
   "metadata": {},
   "source": [
    "https://gist.github.com/spro/ef26915065225df65c1187562eca7ec4"
   ]
  },
  {
   "cell_type": "code",
   "execution_count": 1,
   "metadata": {},
   "outputs": [
    {
     "name": "stdout",
     "output_type": "stream",
     "text": [
      "cuda\n"
     ]
    }
   ],
   "source": [
    "import torch\n",
    "import torch.nn as nn\n",
    "from torch.nn import functional as F\n",
    "from torch.autograd import Variable\n",
    "from torch import optim\n",
    "import numpy as np\n",
    "import math, random\n",
    "\n",
    "from bokeh.plotting import figure, show, output_notebook\n",
    "\n",
    "device = torch.device(\"cuda\" if torch.cuda.is_available() else \"cpu\")\n",
    "print(device)"
   ]
  },
  {
   "cell_type": "code",
   "execution_count": 2,
   "metadata": {},
   "outputs": [],
   "source": [
    "# Generating a noisy multi-sin wave \n",
    "class noisymultisin():\n",
    "    def __init__(self):\n",
    "        self.offset = 0\n",
    "        \n",
    "    def sine_2(self, X, signal_freq=60.):\n",
    "        return (np.sin(2 * np.pi * (X) / signal_freq) + np.sin(4 * np.pi * (X) / signal_freq)) / 2.0\n",
    "\n",
    "    def noisy(self, Y, noise_range=(-0.05, 0.05)):\n",
    "        noise = np.random.uniform(noise_range[0], noise_range[1], size=Y.shape)\n",
    "        return Y + noise\n",
    "\n",
    "    def sample(self, sample_size):\n",
    "        X = np.arange(sample_size)\n",
    "        X += self.offset\n",
    "        Y = self.noisy(self.sine_2(X + self.offset))\n",
    "        self.offset += sample_size\n",
    "        return X, Y"
   ]
  },
  {
   "cell_type": "code",
   "execution_count": 3,
   "metadata": {},
   "outputs": [],
   "source": [
    "# generating a simple sin wave\n",
    "class simplesin():\n",
    "    def __init__(self):\n",
    "        self.offset = 0\n",
    "        \n",
    "    def sin(self, X, signal_freq=60.):\n",
    "        return np.sin(2 * np.pi * (X) / signal_freq)\n",
    "\n",
    "    def sample(self, sample_size):\n",
    "        X = np.arange(sample_size)\n",
    "        X += self.offset\n",
    "        Y = self.sin(X)\n",
    "        self.offset += sample_size\n",
    "        return X, Y"
   ]
  },
  {
   "cell_type": "code",
   "execution_count": 4,
   "metadata": {},
   "outputs": [],
   "source": [
    "# Define the model\n",
    "\n",
    "class SimpleRNN(nn.Module):\n",
    "    def __init__(self, hidden_size, dropout=0.05, num_layers=2):\n",
    "        super(SimpleRNN, self).__init__()\n",
    "        self.hidden_size = hidden_size\n",
    "        self.dropout=dropout\n",
    "        self.num_layers=num_layers\n",
    "\n",
    "        self.inp = nn.Linear(1, hidden_size)\n",
    "        self.rnn = nn.LSTM(hidden_size, hidden_size, num_layers=self.num_layers, dropout=self.dropout)\n",
    "        self.out = nn.Linear(hidden_size, 1)\n",
    "\n",
    "    def printParams(self, index=None):\n",
    "        if index is None:\n",
    "            print(\"\\nPrinting parameters\")\n",
    "            for parameter in self.parameters():\n",
    "                print(parameter)\n",
    "        else:\n",
    "            for i, value in enumerate(self.parameters()):\n",
    "                if i == index:\n",
    "                    print(f\"\\nPrinting parameters at index {i}\")\n",
    "                    print(value)\n",
    "                    break\n",
    "    \n",
    "    def step(self, input, hidden=None):\n",
    "        input = self.inp(input.view(1, -1)).unsqueeze(1)\n",
    "        output, hidden = self.rnn(input, hidden)\n",
    "        output = self.out(output.squeeze(1))\n",
    "        return output, hidden\n",
    "\n",
    "    def forward(self, inputs, hidden=None, force=True, steps=0):\n",
    "        if force or steps == 0: \n",
    "            steps = len(inputs)\n",
    "        outputs = torch.zeros(steps, 1, 1).to(device)\n",
    "        for i in range(steps):\n",
    "            if force or i == 0:\n",
    "                input = inputs[i]\n",
    "            else:\n",
    "                input = output\n",
    "            output, hidden = self.step(input, hidden)\n",
    "            outputs[i] = output\n",
    "\n",
    "        return outputs, hidden"
   ]
  },
  {
   "cell_type": "markdown",
   "metadata": {},
   "source": [
    "Notes: the addition of teach forcing really improve the capacity of the model to genenerate the sinwave by itself"
   ]
  },
  {
   "cell_type": "code",
   "execution_count": 5,
   "metadata": {},
   "outputs": [
    {
     "name": "stdout",
     "output_type": "stream",
     "text": [
      "1: 0.5351684093475342\n",
      "6: 0.4633595645427704\n",
      "11: 0.37539154291152954\n",
      "16: 0.16418710350990295\n",
      "21: 0.09719697386026382\n",
      "26: 0.07901448756456375\n",
      "31: 0.06676063686609268\n",
      "36: 0.05765816569328308\n",
      "41: 0.05047355219721794\n",
      "46: 0.044533077627420425\n",
      "50: 0.04039423540234566\n"
     ]
    }
   ],
   "source": [
    "n_epochs = 50\n",
    "hidden_size = 10\n",
    "dropout=0.00\n",
    "num_layers=2\n",
    "\n",
    "model = SimpleRNN(hidden_size=hidden_size, dropout=dropout, num_layers=num_layers)\n",
    "model.to(device)\n",
    "criterion = nn.MSELoss()\n",
    "optimizer = optim.SGD(model.parameters(), lr=0.3)\n",
    "\n",
    "losses = np.zeros(n_epochs) # For plotting\n",
    "\n",
    "wave = simplesin()\n",
    "timesteps, _inputs = wave.sample(sample_size=1000)\n",
    "inputs = torch.from_numpy(_inputs[:-1]).float().to(device)\n",
    "targets = torch.from_numpy(_inputs[1:]).float().to(device)\n",
    "\n",
    "for epoch in range(n_epochs):\n",
    " \n",
    "    optimizer.zero_grad()\n",
    "\n",
    "    # teach forcing\n",
    "    force = np.random.rand()\n",
    "    outputs, hidden = model(inputs, force=force)\n",
    "\n",
    "    loss = criterion(outputs.view(len(outputs)), targets)\n",
    "    loss.backward()\n",
    "    optimizer.step()\n",
    "    losses[epoch] += loss.item()\n",
    "    \n",
    "    # print 10 steps of the training and the last one \n",
    "    if (epoch % math.floor(n_epochs/10) == 0) or (epoch == n_epochs-1):\n",
    "        print(f\"{epoch+1}: {loss.item()}\")"
   ]
  },
  {
   "cell_type": "code",
   "execution_count": 6,
   "metadata": {},
   "outputs": [
    {
     "data": {
      "text/html": [
       "\n",
       "    <div class=\"bk-root\">\n",
       "        <a href=\"https://bokeh.pydata.org\" target=\"_blank\" class=\"bk-logo bk-logo-small bk-logo-notebook\"></a>\n",
       "        <span id=\"53fc6aad-c3e0-4932-bc01-f6ce6118a93b\">Loading BokehJS ...</span>\n",
       "    </div>"
      ]
     },
     "metadata": {},
     "output_type": "execute_result"
    },
    {
     "data": {},
     "metadata": {},
     "output_type": "display_data"
    },
    {
     "data": {
      "text/html": [
       "\n",
       "\n",
       "\n",
       "\n",
       "\n",
       "\n",
       "  <div class=\"bk-root\" id=\"36be0410-9954-43e0-aab9-ed714f53ff4c\"></div>\n"
      ]
     },
     "metadata": {},
     "output_type": "execute_result"
    },
    {
     "data": {},
     "metadata": {
      "application/vnd.bokehjs_exec.v0+json": {
       "id": "0930f317-e83e-4ff4-ad4b-250aae4e1d25"
      }
     },
     "output_type": "display_data"
    }
   ],
   "source": [
    "output_notebook()\n",
    "\n",
    "l = figure(plot_width=900, plot_height=400)\n",
    "l.line(x=range(n_epochs), y=losses, line_width=2, line_color=\"blue\")\n",
    "l.xaxis.axis_label = \"Epoch\"\n",
    "l.yaxis.axis_label = \"Loss\"\n",
    "l.yaxis.major_label_orientation = \"vertical\"\n",
    "show(l)"
   ]
  },
  {
   "cell_type": "code",
   "execution_count": 8,
   "metadata": {},
   "outputs": [
    {
     "data": {
      "text/html": [
       "\n",
       "    <div class=\"bk-root\">\n",
       "        <a href=\"https://bokeh.pydata.org\" target=\"_blank\" class=\"bk-logo bk-logo-small bk-logo-notebook\"></a>\n",
       "        <span id=\"a78799e1-46ba-4709-9d95-21ab34353e58\">Loading BokehJS ...</span>\n",
       "    </div>"
      ]
     },
     "metadata": {},
     "output_type": "execute_result"
    },
    {
     "data": {},
     "metadata": {},
     "output_type": "display_data"
    },
    {
     "data": {
      "text/html": [
       "\n",
       "\n",
       "\n",
       "\n",
       "\n",
       "\n",
       "  <div class=\"bk-root\" id=\"dfe857da-50d6-47b6-bc11-07bce6231355\"></div>\n"
      ]
     },
     "metadata": {},
     "output_type": "execute_result"
    },
    {
     "data": {},
     "metadata": {
      "application/vnd.bokehjs_exec.v0+json": {
       "id": "a839a577-54c9-4b4b-b4f9-b97bd1508635"
      }
     },
     "output_type": "display_data"
    }
   ],
   "source": [
    "output_notebook()\n",
    "\n",
    "p = figure(plot_width=900, plot_height=400)\n",
    "p.line(x=timesteps, y=_inputs, line_width=2, line_color=\"blue\", legend=\"True\")\n",
    "p.line(x=timesteps[1:], y=outputs.tolist(), line_width=2, line_color=\"orange\", legend=\"Prediction\")\n",
    "show(p)"
   ]
  },
  {
   "cell_type": "markdown",
   "metadata": {},
   "source": [
    "\n",
    "Try to do some prediction by taking more points in the sin wave\n"
   ]
  },
  {
   "cell_type": "code",
   "execution_count": 9,
   "metadata": {},
   "outputs": [],
   "source": [
    "timesteps2, _inputs2 = wave.sample(sample_size=100)\n",
    "inputs2 = torch.from_numpy(_inputs2[:-1]).float()\n",
    "targets2 = torch.from_numpy(_inputs2[1:]).float()\n",
    "outputs2, _ = model(inputs2, force=False)"
   ]
  },
  {
   "cell_type": "code",
   "execution_count": 10,
   "metadata": {},
   "outputs": [
    {
     "data": {
      "text/html": [
       "\n",
       "    <div class=\"bk-root\">\n",
       "        <a href=\"https://bokeh.pydata.org\" target=\"_blank\" class=\"bk-logo bk-logo-small bk-logo-notebook\"></a>\n",
       "        <span id=\"3c63a278-35e9-45ed-a774-a99d8d4789ef\">Loading BokehJS ...</span>\n",
       "    </div>"
      ]
     },
     "metadata": {},
     "output_type": "execute_result"
    },
    {
     "data": {},
     "metadata": {},
     "output_type": "display_data"
    },
    {
     "data": {
      "text/html": [
       "\n",
       "\n",
       "\n",
       "\n",
       "\n",
       "\n",
       "  <div class=\"bk-root\" id=\"c97b5210-e681-45e3-9fff-50391eb3e445\"></div>\n"
      ]
     },
     "metadata": {},
     "output_type": "execute_result"
    },
    {
     "data": {},
     "metadata": {
      "application/vnd.bokehjs_exec.v0+json": {
       "id": "e346404d-4111-49d4-8f81-ddcbcd9b6056"
      }
     },
     "output_type": "display_data"
    }
   ],
   "source": [
    "output_notebook()\n",
    "\n",
    "p = figure(plot_width=900, plot_height=400, title=\"Generation of the waves by the model without any correction\")\n",
    "\n",
    "# add a line renderer\n",
    "p.line(x=timesteps2, y=_inputs2, line_width=2, line_color=\"blue\")\n",
    "p.line(x=timesteps2[1:], y=outputs2.tolist(), line_width=2, line_color=\"orange\")\n",
    "show(p)"
   ]
  },
  {
   "cell_type": "markdown",
   "metadata": {},
   "source": [
    "Things to try\n",
    "- Finf the lr with FastAI tricks\n",
    "- Train for a lot of epoch in lab"
   ]
  }
 ],
 "metadata": {
  "kernelspec": {
   "display_name": "Python 3",
   "language": "python",
   "name": "python3"
  },
  "language_info": {
   "codemirror_mode": {
    "name": "ipython",
    "version": 3
   },
   "file_extension": ".py",
   "mimetype": "text/x-python",
   "name": "python",
   "nbconvert_exporter": "python",
   "pygments_lexer": "ipython3",
   "version": "3.7.0"
  }
 },
 "nbformat": 4,
 "nbformat_minor": 2
}
